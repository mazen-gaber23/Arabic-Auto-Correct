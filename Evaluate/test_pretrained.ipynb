{
 "cells": [
  {
   "cell_type": "code",
   "execution_count": 1,
   "id": "451b36bf",
   "metadata": {},
   "outputs": [
    {
     "name": "stderr",
     "output_type": "stream",
     "text": [
      "c:\\Users\\mizog\\AppData\\Local\\Programs\\Python\\Python312\\Lib\\site-packages\\tqdm\\auto.py:21: TqdmWarning: IProgress not found. Please update jupyter and ipywidgets. See https://ipywidgets.readthedocs.io/en/stable/user_install.html\n",
      "  from .autonotebook import tqdm as notebook_tqdm\n"
     ]
    }
   ],
   "source": [
    "from transformers import AutoTokenizer, AutoModelForSeq2SeqLM"
   ]
  },
  {
   "cell_type": "code",
   "execution_count": 2,
   "id": "7cfd523c",
   "metadata": {},
   "outputs": [
    {
     "name": "stderr",
     "output_type": "stream",
     "text": [
      "Some weights of the model checkpoint at CAMeL-Lab/arabart-qalb15-gec-ged-13 were not used when initializing MBartForConditionalGeneration: ['model.encoder.embed_ged_tags.weight']\n",
      "- This IS expected if you are initializing MBartForConditionalGeneration from the checkpoint of a model trained on another task or with another architecture (e.g. initializing a BertForSequenceClassification model from a BertForPreTraining model).\n",
      "- This IS NOT expected if you are initializing MBartForConditionalGeneration from the checkpoint of a model that you expect to be exactly identical (initializing a BertForSequenceClassification model from a BertForSequenceClassification model).\n"
     ]
    }
   ],
   "source": [
    "model_name = \"CAMeL-Lab/arabart-qalb15-gec-ged-13\"\n",
    "tokenizer = AutoTokenizer.from_pretrained(model_name)\n",
    "base_model = AutoModelForSeq2SeqLM.from_pretrained(\n",
    "    model_name,\n",
    "    # load_in_8bit=True, # Optional: for memory saving\n",
    "    # device_map=\"auto\" # Optional: for multi-GPU or memory saving\n",
    ")"
   ]
  },
  {
   "cell_type": "code",
   "execution_count": 3,
   "id": "e1af3997",
   "metadata": {},
   "outputs": [
    {
     "name": "stdout",
     "output_type": "stream",
     "text": [
      "1. Original:  الشعاب العربي\n",
      "   Corrected: الشعاب العربي .\n",
      "--------------------------------------------------\n",
      "2. Original:  اناا بحب المشا كثير.\n",
      "   Corrected: أنا أحب الرياضة كثيرا .\n",
      "--------------------------------------------------\n",
      "3. Original:  الولد كانو يضحكون بصوت عالي.\n",
      "   Corrected: الولد كانوا يضحكون بصوت عالي .\n",
      "--------------------------------------------------\n",
      "4. Original:  المدرس قال لنا ان نذاكر جيدا.\n",
      "   Corrected: المدرس قال لنا أن نذاكر جيدا .\n",
      "--------------------------------------------------\n",
      "5. Original:  هاذي البنت ذكيه جدا.\n",
      "   Corrected: هذه البنت ذكيه جدا .\n",
      "--------------------------------------------------\n",
      "6. Original:  ذهبت الى الجامعه لاكنها كانت مغلقه.\n",
      "   Corrected: ذهبت إلى الجامعة لكنها كانت مغلقه .\n",
      "--------------------------------------------------\n",
      "7. Original:  شوفت احمد في السوق يوم الخميس.\n",
      "   Corrected: رأيت أحمد في السوق يوم الخميس .\n",
      "--------------------------------------------------\n",
      "8. Original:  الطفل يلعب في الشارع لوحده.\n",
      "   Corrected: الطفل يلعب في الشارع لوحده .\n",
      "--------------------------------------------------\n",
      "9. Original:  الصديقاتهم ذهبوا إلى الحديقه.\n",
      "   Corrected: الصديقات ذهبوا إلى الحديقه .\n",
      "--------------------------------------------------\n",
      "10. Original:  اكلت فطور الصباح بسرعه لانني كنت جعانه.\n",
      "   Corrected: أكلت فطور الصباح بسرعه لأني كنت جعانه .\n",
      "--------------------------------------------------\n",
      "11. Original:  لازم تروحو للبيت الحين.\n",
      "   Corrected: لازم تروحوا للبيت الحين .\n",
      "--------------------------------------------------\n",
      "12. Original:  هذاك الولد ما يبي يدرس.\n",
      "   Corrected: هذا الولد ما يبي يدرس .\n",
      "--------------------------------------------------\n",
      "13. Original:  امس الجو كان ممطره.\n",
      "   Corrected: أمس الجو كان ممطرا .\n",
      "--------------------------------------------------\n",
      "14. Original:  المدرسه تقع جنب بيتناا.\n",
      "   Corrected: المدرسه تقع جنب بيتنا .\n",
      "--------------------------------------------------\n",
      "15. Original:  ابي راح لمكه لأداء العمره.\n",
      "   Corrected: أبي راح لمكة لأداء العمرة .\n",
      "--------------------------------------------------\n"
     ]
    }
   ],
   "source": [
    "sentences = [\n",
    "    \"الشعاب العربي\",\n",
    "    \"اناا بحب المشا كثير.\",\n",
    "    \"الولد كانو يضحكون بصوت عالي.\",\n",
    "    \"المدرس قال لنا ان نذاكر جيدا.\",\n",
    "    \"هاذي البنت ذكيه جدا.\",\n",
    "    \"ذهبت الى الجامعه لاكنها كانت مغلقه.\",\n",
    "    \"شوفت احمد في السوق يوم الخميس.\",\n",
    "    \"الطفل يلعب في الشارع لوحده.\",\n",
    "    \"الصديقاتهم ذهبوا إلى الحديقه.\",\n",
    "    \"اكلت فطور الصباح بسرعه لانني كنت جعانه.\",\n",
    "    \"لازم تروحو للبيت الحين.\",\n",
    "    \"هذاك الولد ما يبي يدرس.\",\n",
    "    \"امس الجو كان ممطره.\",\n",
    "    \"المدرسه تقع جنب بيتناا.\",\n",
    "    \"ابي راح لمكه لأداء العمره.\"\n",
    "]\n",
    "# Run each sentence through the model and print results\n",
    "for i, sentence in enumerate(sentences, 1):\n",
    "    inputs = tokenizer(sentence, return_tensors=\"pt\")\n",
    "    outputs = base_model.generate(**inputs)\n",
    "    corrected = tokenizer.decode(outputs[0], skip_special_tokens=True)\n",
    "    \n",
    "    print(f\"{i}. Original:  {sentence}\")\n",
    "    print(f\"   Corrected: {corrected}\")\n",
    "    print(\"-\" * 50)"
   ]
  }
 ],
 "metadata": {
  "kernelspec": {
   "display_name": "Python 3",
   "language": "python",
   "name": "python3"
  },
  "language_info": {
   "codemirror_mode": {
    "name": "ipython",
    "version": 3
   },
   "file_extension": ".py",
   "mimetype": "text/x-python",
   "name": "python",
   "nbconvert_exporter": "python",
   "pygments_lexer": "ipython3",
   "version": "3.12.0"
  }
 },
 "nbformat": 4,
 "nbformat_minor": 5
}
