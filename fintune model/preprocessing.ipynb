{
 "cells": [
  {
   "cell_type": "code",
   "execution_count": 1,
   "id": "9416f7de",
   "metadata": {},
   "outputs": [],
   "source": [
    "import re\n",
    "import random\n",
    "import csv\n",
    "import pandas as pd\n"
   ]
  },
  {
   "cell_type": "code",
   "execution_count": null,
   "id": "a736699a",
   "metadata": {},
   "outputs": [],
   "source": [
    "ARABIC_LETTERS = \"ابتثجحخدذرزسشصضطظعغفقكلمنهوي\"\n",
    "\n",
    "# حذف التشكيل\n",
    "def remove_tashkeel(text):\n",
    "    return re.sub(r'[\\u0617-\\u061A\\u064B-\\u0652]', '', text)\n",
    "\n",
    "# تنظيف النص\n",
    "def clean_text(text):\n",
    "    text = remove_tashkeel(text)\n",
    "    text = ' '.join([word for word in text.split() if not re.search(r'[a-zA-Z]', word)])\n",
    "    text = re.sub(r'[^\\u0600-\\u06FF\\s]', '', text)\n",
    "    text = re.sub(r'\\s+', ' ', text).strip()\n",
    "    return text\n",
    "\n",
    "def remove_punctuation(text):\n",
    "    return re.sub(r'[،؛؟!.\\',\"]', '', text)  \n"
   ]
  },
  {
   "cell_type": "code",
   "execution_count": null,
   "id": "e8cc64b0",
   "metadata": {},
   "outputs": [],
   "source": [
    "def introduce_typos(text, num_typos=3):\n",
    "    words = text.split()\n",
    "    new_words = words.copy()\n",
    "\n",
    "    \n",
    "    typo_count = min(num_typos, len(words))\n",
    "    typo_indices = random.sample(range(len(words)), typo_count)\n",
    "\n",
    "    for idx in typo_indices:\n",
    "        word = new_words[idx]\n",
    "        if not word:\n",
    "            continue\n",
    "\n",
    "        typo_type = random.choice(['replace', 'delete', 'insert-middle', 'swap', 'insert-end'])\n",
    "        chars = list(word)\n",
    "\n",
    "        if typo_type == 'replace' and chars:\n",
    "            i = random.randint(0, len(chars) - 1)\n",
    "            chars[i] = random.choice(ARABIC_LETTERS)\n",
    "\n",
    "        elif typo_type == 'delete' and len(chars) > 1:\n",
    "            i = random.randint(0, len(chars) - 1)\n",
    "            del chars[i]\n",
    "\n",
    "        elif typo_type == 'insert-middle':\n",
    "            i = random.randint(0, len(chars))\n",
    "            chars.insert(i, random.choice(ARABIC_LETTERS))\n",
    "\n",
    "        elif typo_type == 'swap' and len(chars) > 1:\n",
    "            i = random.randint(0, len(chars) - 2)\n",
    "            chars[i], chars[i + 1] = chars[i + 1], chars[i]\n",
    "\n",
    "        elif typo_type == 'insert-end':\n",
    "            chars.append(random.choice(ARABIC_LETTERS))\n",
    "\n",
    "        new_words[idx] = ''.join(chars)\n",
    "\n",
    "    return ' '.join(new_words)"
   ]
  },
  {
   "cell_type": "code",
   "execution_count": null,
   "id": "aaf0adea",
   "metadata": {},
   "outputs": [],
   "source": [
    "input_file = \"ara_wikipedia_2021_30K-sentences.txt\"\n",
    "output_pairs = []\n",
    "\n",
    "with open(input_file, \"r\", encoding=\"utf-8\") as infile:\n",
    "    for line in infile:\n",
    "        correct = clean_text(line)\n",
    "        if correct:\n",
    "            noisy = introduce_typos(correct)\n",
    "            if noisy != correct:\n",
    "                correct = remove_punctuation(correct) \n",
    "                noisy = remove_punctuation(noisy)  \n",
    "                output_pairs.append((correct, noisy))  "
   ]
  },
  {
   "cell_type": "code",
   "execution_count": null,
   "id": "0b630b67",
   "metadata": {},
   "outputs": [],
   "source": [
    "\n",
    "csv_file = \"formatted_dataset.csv\"\n",
    "with open(csv_file, mode='w', newline='', encoding='utf-8') as csvfile:\n",
    "    writer = csv.writer(csvfile)\n",
    "    writer.writerow([\"correct\", \"incorrect\"]) \n",
    "    for correct, noisy in output_pairs:\n",
    "        writer.writerow([correct, noisy])\n",
    "\n",
    "print(f\"Done{csv_file}\")"
   ]
  },
  {
   "cell_type": "code",
   "execution_count": null,
   "id": "890787c9",
   "metadata": {},
   "outputs": [
    {
     "name": "stdout",
     "output_type": "stream",
     "text": [
      "                                             correct  \\\n",
      "0              أغسطس هي عالمة فقه في اللغة الأسبانية   \n",
      "1                     هو عسكري و سياسي و نبيل إسباني   \n",
      "2            أطروحة تعليمية عن مكان الفرد في المجتمع   \n",
      "3   مستعمرة إيطالية تأسست عام بعد ضم أراضي الإمبر...   \n",
      "4   تستند الأوصاف في على مجموعة لغة تتجاوز مليون ...   \n",
      "5          ١ فترة ظهور ثقافة الموشي في موتشي المبكرة   \n",
      "6                                       يناير أبريل    \n",
      "7    والتي يمكن وصفها بأنها الفحص الدوري مع متعدد...   \n",
      "8  مراكز ثقافيةدار شباب مكتبة بلدية مكتبة جامعية ...   \n",
      "9                                    ذهب بعيار عشرين   \n",
      "\n",
      "                                           incorrect  \n",
      "0          ذ أغسطس هي عظالمة كفقه في اللغة الأسبانية  \n",
      "1                     هو عسكري و سياسس و نبيل إبساني  \n",
      "2          أطروحة تعليميةص عنع مكان نلفرد في المجتمع  \n",
      "3   سمتعمرة إيطالية تأسست عام بعد ضم أراضي الإمبر...  \n",
      "4   تستند الأوصاف في على مجموعة لغة تتجاوز ملينو ...  \n",
      "5        ١ فترا ظهور ثقافة الموشيا في موتشيث المبكرة  \n",
      "6                                     ث ينايه أبرلي   \n",
      "7    والتين يمكن وصفها بأنهاس الحفص الدوري مع متع...  \n",
      "8  مرازك ثقايةدار شباب مكتبة بلدية مكتبةذ جامعية ...  \n",
      "9                                    ذبه بعار عشرينث  \n"
     ]
    }
   ],
   "source": [
    "df = pd.read_csv(csv_file)\n",
    "\n",
    "\n",
    "print(df.head(10))"
   ]
  }
 ],
 "metadata": {
  "kernelspec": {
   "display_name": "Python 3",
   "language": "python",
   "name": "python3"
  },
  "language_info": {
   "codemirror_mode": {
    "name": "ipython",
    "version": 3
   },
   "file_extension": ".py",
   "mimetype": "text/x-python",
   "name": "python",
   "nbconvert_exporter": "python",
   "pygments_lexer": "ipython3",
   "version": "3.12.0"
  }
 },
 "nbformat": 4,
 "nbformat_minor": 5
}
