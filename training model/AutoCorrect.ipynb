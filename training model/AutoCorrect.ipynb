{
 "cells": [
  {
   "cell_type": "code",
   "execution_count": 5,
   "id": "a8fc9464",
   "metadata": {},
   "outputs": [
    {
     "name": "stderr",
     "output_type": "stream",
     "text": [
      "WARNING:absl:Compiled the loaded model, but the compiled metrics have yet to be built. `model.compile_metrics` will be empty until you train or evaluate the model.\n"
     ]
    }
   ],
   "source": [
    "from tensorflow.keras.models import load_model\n",
    "import pickle\n",
    "import tkinter as tk\n",
    "from tkinter import scrolledtext, messagebox\n",
    "import re\n",
    "import string\n",
    "import numpy as np\n",
    "from tensorflow.keras.preprocessing.sequence import pad_sequences\n",
    "\n",
    "\n",
    "model = load_model('auto_correction_model.h5')\n",
    "tokenizer = pickle.load(open('tokenizer.pkl', 'rb'))"
   ]
  },
  {
   "cell_type": "code",
   "execution_count": 6,
   "id": "1b35ba1e",
   "metadata": {},
   "outputs": [
    {
     "name": "stdout",
     "output_type": "stream",
     "text": [
      "\u001b[1m1/1\u001b[0m \u001b[32m━━━━━━━━━━━━━━━━━━━━\u001b[0m\u001b[37m\u001b[0m \u001b[1m0s\u001b[0m 187ms/step\n"
     ]
    }
   ],
   "source": [
    "def clean(text):\n",
    "    text = re.sub(r'\\s+', ' ', text)  \n",
    "    text = re.sub(r'\\d+', ' ', text)  \n",
    "    text = ''.join([i for i in text if i not in string.punctuation]) \n",
    "    return text\n",
    "\n",
    "\n",
    "def correct_text():\n",
    "    input_text = input_box.get(\"1.0\", tk.END).strip()\n",
    "    if not input_text:\n",
    "        messagebox.showwarning(\"تنبيه\", \"الرجاء إدخال نص عربي.\")\n",
    "        return\n",
    "    try:\n",
    "        cleaned_text = clean(input_text)\n",
    "        sequence = tokenizer.texts_to_sequences([cleaned_text])\n",
    "        padded_sequence = pad_sequences(sequence, maxlen=394, padding='post')\n",
    "        pred = model.predict(padded_sequence)\n",
    "        pred_sequence = np.argmax(pred, axis=-1)\n",
    "        corrected = tokenizer.sequences_to_texts(pred_sequence)\n",
    "        output_box.delete(\"1.0\", tk.END)\n",
    "        output_box.insert(tk.END, corrected[0])\n",
    "    except Exception as e:\n",
    "        messagebox.showerror(\"خطأ\", f\"حدث خطأ أثناء التصحيح:\\n{e}\")\n",
    "\n",
    "\n",
    "def clear_text():\n",
    "    input_box.delete(\"1.0\", tk.END)\n",
    "    output_box.delete(\"1.0\", tk.END)\n",
    "\n",
    "\n",
    "def exit_app():\n",
    "    window.destroy()\n",
    "\n",
    "\n",
    "window = tk.Tk()\n",
    "window.title(\"مصحح النصوص العربية\")\n",
    "window.geometry(\"700x500\")\n",
    "window.configure(bg=\"#f7f7f7\")\n",
    "\n",
    "\n",
    "tk.Label(window, text=\"📝 أدخل النص هنا:\", bg=\"#f7f7f7\", font=(\"Arial\", 14, \"bold\")).pack(pady=10)\n",
    "\n",
    "\n",
    "input_box = scrolledtext.ScrolledText(window, wrap=tk.WORD, width=80, height=8, font=(\"Arial\", 12), fg=\"black\")\n",
    "input_box.pack(pady=5, padx=10)\n",
    "\n",
    "\n",
    "button_frame = tk.Frame(window, bg=\"#f7f7f7\")\n",
    "button_frame.pack(pady=10)\n",
    "\n",
    "tk.Button(button_frame, text=\"✔ تصحيح\", command=correct_text, width=10, font=(\"Arial\", 12), bg=\"#4CAF50\", fg=\"white\").grid(row=0, column=0, padx=5)\n",
    "tk.Button(button_frame, text=\"🗑 مسح\", command=clear_text, width=10, font=(\"Arial\", 12), bg=\"#f39c12\", fg=\"white\").grid(row=0, column=1, padx=5)\n",
    "tk.Button(button_frame, text=\"❌ خروج\", command=exit_app, width=10, font=(\"Arial\", 12), bg=\"#e74c3c\", fg=\"white\").grid(row=0, column=2, padx=5)\n",
    "\n",
    "\n",
    "tk.Label(window, text=\"📘 النص المصحح:\", bg=\"#f7f7f7\", font=(\"Arial\", 14, \"bold\")).pack(pady=10)\n",
    "\n",
    "\n",
    "output_box = scrolledtext.ScrolledText(window, wrap=tk.WORD, width=80, height=8, font=(\"Arial\", 12), fg=\"darkgreen\")\n",
    "output_box.pack(pady=5, padx=10)\n",
    "\n",
    "\n",
    "window.mainloop()"
   ]
  }
 ],
 "metadata": {
  "kernelspec": {
   "display_name": "Python 3",
   "language": "python",
   "name": "python3"
  },
  "language_info": {
   "codemirror_mode": {
    "name": "ipython",
    "version": 3
   },
   "file_extension": ".py",
   "mimetype": "text/x-python",
   "name": "python",
   "nbconvert_exporter": "python",
   "pygments_lexer": "ipython3",
   "version": "3.12.0"
  }
 },
 "nbformat": 4,
 "nbformat_minor": 5
}
